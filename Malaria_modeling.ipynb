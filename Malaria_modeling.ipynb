{
 "cells": [
  {
   "cell_type": "markdown",
   "metadata": {},
   "source": [
    "## Malaria transmission process parameters"
   ]
  },
  {
   "cell_type": "code",
   "execution_count": 1,
   "metadata": {},
   "outputs": [],
   "source": [
    "params = {\n",
    "    \"rainfall_multiplier\" : 1.0, # rainfall to mosquito linear multiplication factor (per day)\n",
    "    \"rainfall_offset\" : 0.0, # rainfall to mosquito offset\n",
    "    \"c\" : 1.0, # inoculation effiency for mosquitoes\n",
    "    \"b\": 0.5, # inoculation efficiency for humans\n",
    "    \"hbi\" : 0.5, # human blood index\n",
    "    \"r\" : 0.0284, # human recovery rate (per day)\n",
    "    \"hia\" : 15.0, # number of days after infection when humans become infectious\n",
    "    \"Tg\" : 9.0, #  Gonotrophic threshold temperature \n",
    "    \"Dg\" : 37.0, # Gonotrophic cycle length in degree days\n",
    "    \"Ts\" : 18.0, # Sporogonic threshold temperature \n",
    "    \"Ds\" : 111.0, # Sporoogonic cycle length in degree days\n",
    "    \"stype\" : 0 # Survival type (valid values are 0 = Martens, 2 = Craig)\n",
    "}"
   ]
  },
  {
   "cell_type": "code",
   "execution_count": null,
   "metadata": {},
   "outputs": [],
   "source": []
  },
  {
   "cell_type": "code",
   "execution_count": 2,
   "metadata": {},
   "outputs": [
    {
     "name": "stderr",
     "output_type": "stream",
     "text": [
      "/Users/juliankuehnert/.pyenv/versions/3.8.6/envs/ungana/lib/python3.8/site-packages/pandas/compat/__init__.py:120: UserWarning: Could not import the lzma module. Your installed Python is incomplete. Attempting to use lzma compression will result in a RuntimeError.\n",
      "  warnings.warn(msg)\n"
     ]
    }
   ],
   "source": [
    "import pandas as pd\n",
    "from models.R0_model import *\n"
   ]
  },
  {
   "cell_type": "code",
   "execution_count": 3,
   "metadata": {},
   "outputs": [],
   "source": [
    "dataset = 'seasonal_forecasts.csv'"
   ]
  },
  {
   "cell_type": "code",
   "execution_count": 5,
   "metadata": {},
   "outputs": [
    {
     "data": {
      "text/html": [
       "<div>\n",
       "<style scoped>\n",
       "    .dataframe tbody tr th:only-of-type {\n",
       "        vertical-align: middle;\n",
       "    }\n",
       "\n",
       "    .dataframe tbody tr th {\n",
       "        vertical-align: top;\n",
       "    }\n",
       "\n",
       "    .dataframe thead th {\n",
       "        text-align: right;\n",
       "    }\n",
       "</style>\n",
       "<table border=\"1\" class=\"dataframe\">\n",
       "  <thead>\n",
       "    <tr style=\"text-align: right;\">\n",
       "      <th></th>\n",
       "      <th>forecast</th>\n",
       "      <th>precip</th>\n",
       "      <th>temp</th>\n",
       "      <th>datetime</th>\n",
       "    </tr>\n",
       "  </thead>\n",
       "  <tbody>\n",
       "    <tr>\n",
       "      <th>0</th>\n",
       "      <td>1</td>\n",
       "      <td>0.576628</td>\n",
       "      <td>17.865900</td>\n",
       "      <td>2017-01-01</td>\n",
       "    </tr>\n",
       "    <tr>\n",
       "      <th>1</th>\n",
       "      <td>1</td>\n",
       "      <td>0.166432</td>\n",
       "      <td>18.287195</td>\n",
       "      <td>2018-01-01</td>\n",
       "    </tr>\n",
       "    <tr>\n",
       "      <th>2</th>\n",
       "      <td>1</td>\n",
       "      <td>1.760069</td>\n",
       "      <td>19.013910</td>\n",
       "      <td>2019-01-01</td>\n",
       "    </tr>\n",
       "    <tr>\n",
       "      <th>3</th>\n",
       "      <td>1</td>\n",
       "      <td>0.000000</td>\n",
       "      <td>16.801691</td>\n",
       "      <td>2020-01-01</td>\n",
       "    </tr>\n",
       "    <tr>\n",
       "      <th>4</th>\n",
       "      <td>1</td>\n",
       "      <td>0.950271</td>\n",
       "      <td>17.495355</td>\n",
       "      <td>2021-01-01</td>\n",
       "    </tr>\n",
       "  </tbody>\n",
       "</table>\n",
       "</div>"
      ],
      "text/plain": [
       "   forecast    precip       temp    datetime\n",
       "0         1  0.576628  17.865900  2017-01-01\n",
       "1         1  0.166432  18.287195  2018-01-01\n",
       "2         1  1.760069  19.013910  2019-01-01\n",
       "3         1  0.000000  16.801691  2020-01-01\n",
       "4         1  0.950271  17.495355  2021-01-01"
      ]
     },
     "execution_count": 5,
     "metadata": {},
     "output_type": "execute_result"
    }
   ],
   "source": [
    "df = pd.read_csv('datasets/'+dataset)\n",
    "df.head()"
   ]
  },
  {
   "cell_type": "markdown",
   "metadata": {},
   "source": [
    "## Calculate the components of R0: (1) Mosquito population survival per day"
   ]
  },
  {
   "cell_type": "code",
   "execution_count": 6,
   "metadata": {},
   "outputs": [
    {
     "data": {
      "text/html": [
       "<div>\n",
       "<style scoped>\n",
       "    .dataframe tbody tr th:only-of-type {\n",
       "        vertical-align: middle;\n",
       "    }\n",
       "\n",
       "    .dataframe tbody tr th {\n",
       "        vertical-align: top;\n",
       "    }\n",
       "\n",
       "    .dataframe thead th {\n",
       "        text-align: right;\n",
       "    }\n",
       "</style>\n",
       "<table border=\"1\" class=\"dataframe\">\n",
       "  <thead>\n",
       "    <tr style=\"text-align: right;\">\n",
       "      <th></th>\n",
       "      <th>forecast</th>\n",
       "      <th>precip</th>\n",
       "      <th>temp</th>\n",
       "      <th>datetime</th>\n",
       "      <th>P</th>\n",
       "    </tr>\n",
       "  </thead>\n",
       "  <tbody>\n",
       "    <tr>\n",
       "      <th>0</th>\n",
       "      <td>1</td>\n",
       "      <td>0.576628</td>\n",
       "      <td>17.865900</td>\n",
       "      <td>2017-01-01</td>\n",
       "      <td>0.904054</td>\n",
       "    </tr>\n",
       "    <tr>\n",
       "      <th>1</th>\n",
       "      <td>1</td>\n",
       "      <td>0.166432</td>\n",
       "      <td>18.287195</td>\n",
       "      <td>2018-01-01</td>\n",
       "      <td>0.902434</td>\n",
       "    </tr>\n",
       "    <tr>\n",
       "      <th>2</th>\n",
       "      <td>1</td>\n",
       "      <td>1.760069</td>\n",
       "      <td>19.013910</td>\n",
       "      <td>2019-01-01</td>\n",
       "      <td>0.898305</td>\n",
       "    </tr>\n",
       "    <tr>\n",
       "      <th>3</th>\n",
       "      <td>1</td>\n",
       "      <td>0.000000</td>\n",
       "      <td>16.801691</td>\n",
       "      <td>2020-01-01</td>\n",
       "      <td>0.905616</td>\n",
       "    </tr>\n",
       "    <tr>\n",
       "      <th>4</th>\n",
       "      <td>1</td>\n",
       "      <td>0.950271</td>\n",
       "      <td>17.495355</td>\n",
       "      <td>2021-01-01</td>\n",
       "      <td>0.905009</td>\n",
       "    </tr>\n",
       "  </tbody>\n",
       "</table>\n",
       "</div>"
      ],
      "text/plain": [
       "   forecast    precip       temp    datetime         P\n",
       "0         1  0.576628  17.865900  2017-01-01  0.904054\n",
       "1         1  0.166432  18.287195  2018-01-01  0.902434\n",
       "2         1  1.760069  19.013910  2019-01-01  0.898305\n",
       "3         1  0.000000  16.801691  2020-01-01  0.905616\n",
       "4         1  0.950271  17.495355  2021-01-01  0.905009"
      ]
     },
     "execution_count": 6,
     "metadata": {},
     "output_type": "execute_result"
    }
   ],
   "source": [
    "df['P'] = mos_survival(params['stype'], df['temp'].values)\n",
    "df.head()"
   ]
  },
  {
   "cell_type": "markdown",
   "metadata": {},
   "source": [
    "## Calculate the components of R0: (2) Gonotrophic and Sporogonic cycle lengths"
   ]
  },
  {
   "cell_type": "code",
   "execution_count": 7,
   "metadata": {},
   "outputs": [
    {
     "data": {
      "text/html": [
       "<div>\n",
       "<style scoped>\n",
       "    .dataframe tbody tr th:only-of-type {\n",
       "        vertical-align: middle;\n",
       "    }\n",
       "\n",
       "    .dataframe tbody tr th {\n",
       "        vertical-align: top;\n",
       "    }\n",
       "\n",
       "    .dataframe thead th {\n",
       "        text-align: right;\n",
       "    }\n",
       "</style>\n",
       "<table border=\"1\" class=\"dataframe\">\n",
       "  <thead>\n",
       "    <tr style=\"text-align: right;\">\n",
       "      <th></th>\n",
       "      <th>forecast</th>\n",
       "      <th>precip</th>\n",
       "      <th>temp</th>\n",
       "      <th>datetime</th>\n",
       "      <th>P</th>\n",
       "      <th>gono_len</th>\n",
       "    </tr>\n",
       "  </thead>\n",
       "  <tbody>\n",
       "    <tr>\n",
       "      <th>0</th>\n",
       "      <td>1</td>\n",
       "      <td>0.576628</td>\n",
       "      <td>17.865900</td>\n",
       "      <td>2017-01-01</td>\n",
       "      <td>0.904054</td>\n",
       "      <td>5.173293</td>\n",
       "    </tr>\n",
       "    <tr>\n",
       "      <th>1</th>\n",
       "      <td>1</td>\n",
       "      <td>0.166432</td>\n",
       "      <td>18.287195</td>\n",
       "      <td>2018-01-01</td>\n",
       "      <td>0.902434</td>\n",
       "      <td>4.983980</td>\n",
       "    </tr>\n",
       "    <tr>\n",
       "      <th>2</th>\n",
       "      <td>1</td>\n",
       "      <td>1.760069</td>\n",
       "      <td>19.013910</td>\n",
       "      <td>2019-01-01</td>\n",
       "      <td>0.898305</td>\n",
       "      <td>4.694860</td>\n",
       "    </tr>\n",
       "    <tr>\n",
       "      <th>3</th>\n",
       "      <td>1</td>\n",
       "      <td>0.000000</td>\n",
       "      <td>16.801691</td>\n",
       "      <td>2020-01-01</td>\n",
       "      <td>0.905616</td>\n",
       "      <td>5.742562</td>\n",
       "    </tr>\n",
       "    <tr>\n",
       "      <th>4</th>\n",
       "      <td>1</td>\n",
       "      <td>0.950271</td>\n",
       "      <td>17.495355</td>\n",
       "      <td>2021-01-01</td>\n",
       "      <td>0.905009</td>\n",
       "      <td>5.355321</td>\n",
       "    </tr>\n",
       "  </tbody>\n",
       "</table>\n",
       "</div>"
      ],
      "text/plain": [
       "   forecast    precip       temp    datetime         P  gono_len\n",
       "0         1  0.576628  17.865900  2017-01-01  0.904054  5.173293\n",
       "1         1  0.166432  18.287195  2018-01-01  0.902434  4.983980\n",
       "2         1  1.760069  19.013910  2019-01-01  0.898305  4.694860\n",
       "3         1  0.000000  16.801691  2020-01-01  0.905616  5.742562\n",
       "4         1  0.950271  17.495355  2021-01-01  0.905009  5.355321"
      ]
     },
     "execution_count": 7,
     "metadata": {},
     "output_type": "execute_result"
    }
   ],
   "source": [
    "df['gono_len'] = gono_length(df['temp'].values, params['Dg'], params['Tg'])\n",
    "df.head()"
   ]
  },
  {
   "cell_type": "code",
   "execution_count": 8,
   "metadata": {},
   "outputs": [
    {
     "data": {
      "text/html": [
       "<div>\n",
       "<style scoped>\n",
       "    .dataframe tbody tr th:only-of-type {\n",
       "        vertical-align: middle;\n",
       "    }\n",
       "\n",
       "    .dataframe tbody tr th {\n",
       "        vertical-align: top;\n",
       "    }\n",
       "\n",
       "    .dataframe thead th {\n",
       "        text-align: right;\n",
       "    }\n",
       "</style>\n",
       "<table border=\"1\" class=\"dataframe\">\n",
       "  <thead>\n",
       "    <tr style=\"text-align: right;\">\n",
       "      <th></th>\n",
       "      <th>forecast</th>\n",
       "      <th>precip</th>\n",
       "      <th>temp</th>\n",
       "      <th>datetime</th>\n",
       "      <th>P</th>\n",
       "      <th>gono_len</th>\n",
       "      <th>sporo_len</th>\n",
       "    </tr>\n",
       "  </thead>\n",
       "  <tbody>\n",
       "    <tr>\n",
       "      <th>0</th>\n",
       "      <td>1</td>\n",
       "      <td>0.576628</td>\n",
       "      <td>17.865900</td>\n",
       "      <td>2017-01-01</td>\n",
       "      <td>0.904054</td>\n",
       "      <td>5.173293</td>\n",
       "      <td>1000.000000</td>\n",
       "    </tr>\n",
       "    <tr>\n",
       "      <th>1</th>\n",
       "      <td>1</td>\n",
       "      <td>0.166432</td>\n",
       "      <td>18.287195</td>\n",
       "      <td>2018-01-01</td>\n",
       "      <td>0.902434</td>\n",
       "      <td>4.983980</td>\n",
       "      <td>386.497216</td>\n",
       "    </tr>\n",
       "    <tr>\n",
       "      <th>2</th>\n",
       "      <td>1</td>\n",
       "      <td>1.760069</td>\n",
       "      <td>19.013910</td>\n",
       "      <td>2019-01-01</td>\n",
       "      <td>0.898305</td>\n",
       "      <td>4.694860</td>\n",
       "      <td>109.477182</td>\n",
       "    </tr>\n",
       "    <tr>\n",
       "      <th>3</th>\n",
       "      <td>1</td>\n",
       "      <td>0.000000</td>\n",
       "      <td>16.801691</td>\n",
       "      <td>2020-01-01</td>\n",
       "      <td>0.905616</td>\n",
       "      <td>5.742562</td>\n",
       "      <td>1000.000000</td>\n",
       "    </tr>\n",
       "    <tr>\n",
       "      <th>4</th>\n",
       "      <td>1</td>\n",
       "      <td>0.950271</td>\n",
       "      <td>17.495355</td>\n",
       "      <td>2021-01-01</td>\n",
       "      <td>0.905009</td>\n",
       "      <td>5.355321</td>\n",
       "      <td>1000.000000</td>\n",
       "    </tr>\n",
       "  </tbody>\n",
       "</table>\n",
       "</div>"
      ],
      "text/plain": [
       "   forecast    precip       temp    datetime         P  gono_len    sporo_len\n",
       "0         1  0.576628  17.865900  2017-01-01  0.904054  5.173293  1000.000000\n",
       "1         1  0.166432  18.287195  2018-01-01  0.902434  4.983980   386.497216\n",
       "2         1  1.760069  19.013910  2019-01-01  0.898305  4.694860   109.477182\n",
       "3         1  0.000000  16.801691  2020-01-01  0.905616  5.742562  1000.000000\n",
       "4         1  0.950271  17.495355  2021-01-01  0.905009  5.355321  1000.000000"
      ]
     },
     "execution_count": 8,
     "metadata": {},
     "output_type": "execute_result"
    }
   ],
   "source": [
    "df['sporo_len'] = sporo_length(df['temp'].values, params['Ds'], params['Ts'])\n",
    "df.head()"
   ]
  },
  {
   "cell_type": "markdown",
   "metadata": {},
   "source": [
    "## Calculate the components of R0: (3) Mosquito population"
   ]
  },
  {
   "cell_type": "code",
   "execution_count": 9,
   "metadata": {},
   "outputs": [
    {
     "data": {
      "text/plain": [
       "array([[['2017-01-01', '2018-01-01', '2019-01-01', ..., '2019-12-31',\n",
       "         '2020-12-31', '2021-12-31']]], dtype=object)"
      ]
     },
     "execution_count": 9,
     "metadata": {},
     "output_type": "execute_result"
    }
   ],
   "source": [
    "df['datetime'].values.reshape((1,1,len(df)))"
   ]
  },
  {
   "cell_type": "code",
   "execution_count": null,
   "metadata": {},
   "outputs": [],
   "source": [
    "#forecast\n",
    "p_array = df['P'].values.reshape((1,1,len(df)))\n",
    "r_array = df['precip'].values.reshape((1,1,len(df)))\n",
    "print(p_array.shape, r_array.shape)\n",
    "m_array = calc_mosquito_pop(0.0, p_array, r_array, 1, params[\"rainfall_multiplier\"], params[\"rainfall_offset\"])\n",
    "df['mosquitoes'] = m_array[0,0,:]\n",
    "df.head(15)"
   ]
  },
  {
   "cell_type": "markdown",
   "metadata": {},
   "source": [
    "## Bring it all together: Calculate R0"
   ]
  },
  {
   "cell_type": "code",
   "execution_count": null,
   "metadata": {},
   "outputs": [],
   "source": [
    "#forecast\n",
    "m_array = df['mosquitoes'].values.reshape(1,1,len(df))\n",
    "p_array = df['P'].values.reshape((1,1,len(df)))\n",
    "g_array = df['gono_len'].values.reshape((1,1,len(df)))\n",
    "s_array = df['sporo_len'].values.reshape((1,1,len(df)))"
   ]
  },
  {
   "cell_type": "code",
   "execution_count": null,
   "metadata": {},
   "outputs": [],
   "source": [
    "R0 = calculate_R0(m_array, p_array, g_array, s_array, params[\"r\"], \\\n",
    "                             params[\"hia\"], params[\"hbi\"], params[\"b\"], params[\"c\"])\n",
    "df['R0'] = R0[0,0,:]\n",
    "df.head()"
   ]
  }
 ],
 "metadata": {
  "kernelspec": {
   "display_name": "Python 3",
   "language": "python",
   "name": "python3"
  },
  "language_info": {
   "codemirror_mode": {
    "name": "ipython",
    "version": 3
   },
   "file_extension": ".py",
   "mimetype": "text/x-python",
   "name": "python",
   "nbconvert_exporter": "python",
   "pygments_lexer": "ipython3",
   "version": "3.8.6"
  }
 },
 "nbformat": 4,
 "nbformat_minor": 4
}
